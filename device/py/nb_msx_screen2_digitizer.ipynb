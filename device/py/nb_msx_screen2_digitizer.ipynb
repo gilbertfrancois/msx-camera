{
 "cells": [
  {
   "cell_type": "markdown",
   "id": "3d3af334-e844-48ca-9e8c-7b7cc0a7ad3e",
   "metadata": {},
   "source": [
    "# Digitizer for MSX screen 2\n",
    "_Gilbert Francois Duivesteijn_"
   ]
  },
  {
   "cell_type": "code",
   "execution_count": 1,
   "id": "f119a688-819e-490a-8a2e-a8bff6a62723",
   "metadata": {},
   "outputs": [],
   "source": [
    "import numpy as np\n",
    "import cv2 as cv\n",
    "import os\n",
    "import glob\n",
    "\n",
    "import matplotlib.pyplot as plt\n",
    "\n",
    "from lib.msxcolor import MSXColor\n",
    "from lib.dither import Dither\n",
    "from lib.adjustment import Adjustment\n",
    "import lib.color_transform as ct"
   ]
  },
  {
   "cell_type": "code",
   "execution_count": 2,
   "id": "34918972-b9a3-4318-9a79-a6c5e570eb7a",
   "metadata": {},
   "outputs": [],
   "source": [
    "def floyd_steinberg_colormap(image, src_palette, dst_palette=None):\n",
    "    \"\"\"\n",
    "    err_diff_matrix = [[          *    7/16   ],\n",
    "                       [   3/16  5/16  1/16   ]]\n",
    "\n",
    "\n",
    "    \"\"\"\n",
    "    if image.ndim != 3 and image.shape[2] != 3:\n",
    "        raise RuntimeError(f\"Image does not have the right dimensions.\")\n",
    "    out = cv.copyMakeBorder(image, 1, 1, 1, 1, cv.BORDER_REPLICATE)\n",
    "    if dst_palette is not None:\n",
    "        dst = np.zeros_like(out, dtype=np.uint8)\n",
    "    else:\n",
    "        dst = out\n",
    "    rows, cols, _ = out.shape\n",
    "    # import pdb; pdb.set_trace()\n",
    "    for i in range(1, rows-1):\n",
    "        for j in range(1, cols-1):\n",
    "            idx, _ = ct.l2_dist(out[i, j, :], src_palette)\n",
    "            new_color_idx = idx[0]\n",
    "            if new_color_idx == 0:\n",
    "                new_color_idx = 1\n",
    "            new_color_ij = src_palette[new_color_idx]\n",
    "            err = out[i][j] - new_color_ij\n",
    "            out[i][j] = new_color_ij\n",
    "            dst[i][j] = dst_palette[new_color_idx]\n",
    "            # out[i:i+2, j-1:j+2] = out[i:i+2, j-1:j+2] + err_diff * err\n",
    "            out[i    ][j + 1] = out[i    ][j + 1] + (Dither._7o16 * err)\n",
    "            out[i + 1][j - 1] = out[i + 1][j - 1] + (Dither._3o16 * err)\n",
    "            out[i + 1][j    ] = out[i + 1][j    ] + (Dither._5o16 * err)\n",
    "            out[i + 1][j + 1] = out[i + 1][j + 1] + (Dither._1o16 * err)\n",
    "    out = np.clip(out, 0, 1)\n",
    "    out = (out*255).astype(np.uint8)\n",
    "    return (out[1:rows - 1, 1:cols - 1])"
   ]
  },
  {
   "cell_type": "code",
   "execution_count": 3,
   "id": "17d27e92-3343-4923-9f7b-e5d800e36912",
   "metadata": {},
   "outputs": [
    {
     "data": {
      "text/plain": [
       "['../../../resources/test_images/image1.png',\n",
       " '../../../resources/test_images/image2.png',\n",
       " '../../../resources/test_images/image3.png',\n",
       " '../../../resources/test_images/image4.png']"
      ]
     },
     "execution_count": 3,
     "metadata": {},
     "output_type": "execute_result"
    }
   ],
   "source": [
    "image_folder = \"../../../resources/test_images\"\n",
    "image_paths = sorted(glob.glob(os.path.join(image_folder, \"image*.png\")))\n",
    "image_paths"
   ]
  },
  {
   "cell_type": "code",
   "execution_count": 4,
   "id": "931a333b-aa9f-4aa8-b7f4-05014720033e",
   "metadata": {},
   "outputs": [],
   "source": [
    "images = [cv.cvtColor(cv.imread(image_path), cv.COLOR_BGR2RGB) for image_path in image_paths]"
   ]
  },
  {
   "cell_type": "code",
   "execution_count": 5,
   "id": "8d7eaa55-0a23-47ec-b1be-43f2e27f6e4a",
   "metadata": {},
   "outputs": [],
   "source": [
    "# fig, axs = plt.subplots(2, 2, figsize=(16, 12))\n",
    "# axs[0][0].imshow(images[0])\n",
    "# axs[0][1].imshow(images[1])\n",
    "# axs[1][0].imshow(images[2])\n",
    "# axs[1][1].imshow(images[3])\n",
    "# plt.show()"
   ]
  },
  {
   "cell_type": "code",
   "execution_count": 6,
   "id": "3a376e65-45d4-4e28-a717-3fa49017fe7d",
   "metadata": {},
   "outputs": [
    {
     "name": "stdout",
     "output_type": "stream",
     "text": [
      "RGB\n"
     ]
    },
    {
     "ename": "NameError",
     "evalue": "name 'src' is not defined",
     "output_type": "error",
     "traceback": [
      "\u001b[0;31m---------------------------------------------------------------------------\u001b[0m",
      "\u001b[0;31mNameError\u001b[0m                                 Traceback (most recent call last)",
      "Input \u001b[0;32mIn [6]\u001b[0m, in \u001b[0;36m<cell line: 1>\u001b[0;34m()\u001b[0m\n\u001b[0;32m----> 1\u001b[0m msxcolor \u001b[38;5;241m=\u001b[39m \u001b[43mMSXColor\u001b[49m\u001b[43m(\u001b[49m\u001b[43m)\u001b[49m\n",
      "File \u001b[0;32m~/Development/git/msx-camera/device/src/py/lib/msxcolor.py:31\u001b[0m, in \u001b[0;36mMSXColor.__init__\u001b[0;34m(self)\u001b[0m\n\u001b[1;32m     27\u001b[0m \u001b[38;5;28mself\u001b[39m\u001b[38;5;241m.\u001b[39mhex_color_list \u001b[38;5;241m=\u001b[39m [\u001b[38;5;124m\"\u001b[39m\u001b[38;5;124m#000000\u001b[39m\u001b[38;5;124m\"\u001b[39m, \u001b[38;5;124m\"\u001b[39m\u001b[38;5;124m#010101\u001b[39m\u001b[38;5;124m\"\u001b[39m, \u001b[38;5;124m\"\u001b[39m\u001b[38;5;124m#3eb849\u001b[39m\u001b[38;5;124m\"\u001b[39m, \u001b[38;5;124m\"\u001b[39m\u001b[38;5;124m#74d07d\u001b[39m\u001b[38;5;124m\"\u001b[39m, \u001b[38;5;124m\"\u001b[39m\u001b[38;5;124m#5955e0\u001b[39m\u001b[38;5;124m\"\u001b[39m, \u001b[38;5;124m\"\u001b[39m\u001b[38;5;124m#8076f1\u001b[39m\u001b[38;5;124m\"\u001b[39m, \u001b[38;5;124m\"\u001b[39m\u001b[38;5;124m#b95e51\u001b[39m\u001b[38;5;124m\"\u001b[39m, \u001b[38;5;124m\"\u001b[39m\u001b[38;5;124m#65dbef\u001b[39m\u001b[38;5;124m\"\u001b[39m, \n\u001b[1;32m     28\u001b[0m                        \u001b[38;5;124m\"\u001b[39m\u001b[38;5;124m#db6559\u001b[39m\u001b[38;5;124m\"\u001b[39m, \u001b[38;5;124m\"\u001b[39m\u001b[38;5;124m#ff897d\u001b[39m\u001b[38;5;124m\"\u001b[39m, \u001b[38;5;124m\"\u001b[39m\u001b[38;5;124m#ccc35e\u001b[39m\u001b[38;5;124m\"\u001b[39m, \u001b[38;5;124m\"\u001b[39m\u001b[38;5;124m#ded087\u001b[39m\u001b[38;5;124m\"\u001b[39m, \u001b[38;5;124m\"\u001b[39m\u001b[38;5;124m#3aa241\u001b[39m\u001b[38;5;124m\"\u001b[39m, \u001b[38;5;124m\"\u001b[39m\u001b[38;5;124m#b766b5\u001b[39m\u001b[38;5;124m\"\u001b[39m, \u001b[38;5;124m\"\u001b[39m\u001b[38;5;124m#cccccc\u001b[39m\u001b[38;5;124m\"\u001b[39m, \u001b[38;5;124m\"\u001b[39m\u001b[38;5;124m#ffffff\u001b[39m\u001b[38;5;124m\"\u001b[39m]\n\u001b[1;32m     29\u001b[0m \u001b[38;5;28mself\u001b[39m\u001b[38;5;241m.\u001b[39mname_color_list \u001b[38;5;241m=\u001b[39m [\u001b[38;5;124m\"\u001b[39m\u001b[38;5;124mtransparant\u001b[39m\u001b[38;5;124m\"\u001b[39m, \u001b[38;5;124m\"\u001b[39m\u001b[38;5;124mblack\u001b[39m\u001b[38;5;124m\"\u001b[39m, \u001b[38;5;124m\"\u001b[39m\u001b[38;5;124mgreen2\u001b[39m\u001b[38;5;124m\"\u001b[39m, \u001b[38;5;124m\"\u001b[39m\u001b[38;5;124mgreen3\u001b[39m\u001b[38;5;124m\"\u001b[39m, \u001b[38;5;124m\"\u001b[39m\u001b[38;5;124mblue1\u001b[39m\u001b[38;5;124m\"\u001b[39m, \u001b[38;5;124m\"\u001b[39m\u001b[38;5;124mblue2\u001b[39m\u001b[38;5;124m\"\u001b[39m, \u001b[38;5;124m\"\u001b[39m\u001b[38;5;124mred1\u001b[39m\u001b[38;5;124m\"\u001b[39m, \u001b[38;5;124m\"\u001b[39m\u001b[38;5;124mcyan\u001b[39m\u001b[38;5;124m\"\u001b[39m,\n\u001b[1;32m     30\u001b[0m                         \u001b[38;5;124m\"\u001b[39m\u001b[38;5;124mred2\u001b[39m\u001b[38;5;124m\"\u001b[39m, \u001b[38;5;124m\"\u001b[39m\u001b[38;5;124mred3\u001b[39m\u001b[38;5;124m\"\u001b[39m, \u001b[38;5;124m\"\u001b[39m\u001b[38;5;124myellow1\u001b[39m\u001b[38;5;124m\"\u001b[39m, \u001b[38;5;124m\"\u001b[39m\u001b[38;5;124myellow2\u001b[39m\u001b[38;5;124m\"\u001b[39m, \u001b[38;5;124m\"\u001b[39m\u001b[38;5;124mgreen1\u001b[39m\u001b[38;5;124m\"\u001b[39m, \u001b[38;5;124m\"\u001b[39m\u001b[38;5;124mmagenta\u001b[39m\u001b[38;5;124m\"\u001b[39m, \u001b[38;5;124m\"\u001b[39m\u001b[38;5;124mgray\u001b[39m\u001b[38;5;124m\"\u001b[39m, \u001b[38;5;124m\"\u001b[39m\u001b[38;5;124mwhite\u001b[39m\u001b[38;5;124m\"\u001b[39m]\n\u001b[0;32m---> 31\u001b[0m \u001b[38;5;28;43mself\u001b[39;49m\u001b[38;5;241;43m.\u001b[39;49m\u001b[43m_init_color_tables\u001b[49m\u001b[43m(\u001b[49m\u001b[43m)\u001b[49m\n",
      "File \u001b[0;32m~/Development/git/msx-camera/device/src/py/lib/msxcolor.py:160\u001b[0m, in \u001b[0;36mMSXColor._init_color_tables\u001b[0;34m(self)\u001b[0m\n\u001b[1;32m    158\u001b[0m \u001b[38;5;28mself\u001b[39m\u001b[38;5;241m.\u001b[39mpalette_msx1_hsvf_xy \u001b[38;5;241m=\u001b[39m ct\u001b[38;5;241m.\u001b[39mrgbi2hsvf_xy(\u001b[38;5;28mself\u001b[39m\u001b[38;5;241m.\u001b[39mpalette_msx1_rgbi\u001b[38;5;241m.\u001b[39mreshape(\u001b[38;5;241m-\u001b[39m\u001b[38;5;241m1\u001b[39m, \u001b[38;5;241m1\u001b[39m, \u001b[38;5;241m3\u001b[39m))\u001b[38;5;241m.\u001b[39mreshape(MSXColor\u001b[38;5;241m.\u001b[39mPALETTE_MSX1_SHAPE)\n\u001b[1;32m    159\u001b[0m \u001b[38;5;28mself\u001b[39m\u001b[38;5;241m.\u001b[39mpalette_msx1_labf \u001b[38;5;241m=\u001b[39m ct\u001b[38;5;241m.\u001b[39mrgbi2labf(\u001b[38;5;28mself\u001b[39m\u001b[38;5;241m.\u001b[39mpalette_msx1_rgbi\u001b[38;5;241m.\u001b[39mreshape(\u001b[38;5;241m-\u001b[39m\u001b[38;5;241m1\u001b[39m, \u001b[38;5;241m1\u001b[39m, \u001b[38;5;241m3\u001b[39m))\u001b[38;5;241m.\u001b[39mreshape(MSXColor\u001b[38;5;241m.\u001b[39mPALETTE_MSX1_SHAPE)\n\u001b[0;32m--> 160\u001b[0m \u001b[38;5;28mself\u001b[39m\u001b[38;5;241m.\u001b[39mpalette_msx1_ycrcbf \u001b[38;5;241m=\u001b[39m \u001b[43mct\u001b[49m\u001b[38;5;241;43m.\u001b[39;49m\u001b[43mrgbi2ycrcbf\u001b[49m\u001b[43m(\u001b[49m\u001b[38;5;28;43mself\u001b[39;49m\u001b[38;5;241;43m.\u001b[39;49m\u001b[43mpalette_msx1_rgbi\u001b[49m\u001b[38;5;241;43m.\u001b[39;49m\u001b[43mreshape\u001b[49m\u001b[43m(\u001b[49m\u001b[38;5;241;43m-\u001b[39;49m\u001b[38;5;241;43m1\u001b[39;49m\u001b[43m,\u001b[49m\u001b[43m \u001b[49m\u001b[38;5;241;43m1\u001b[39;49m\u001b[43m,\u001b[49m\u001b[43m \u001b[49m\u001b[38;5;241;43m3\u001b[39;49m\u001b[43m)\u001b[49m\u001b[43m)\u001b[49m\u001b[38;5;241m.\u001b[39mreshape(MSXColor\u001b[38;5;241m.\u001b[39mPALETTE_MSX1_SHAPE)\n",
      "File \u001b[0;32m~/Development/git/msx-camera/device/src/py/lib/color_transform.py:80\u001b[0m, in \u001b[0;36mrgbi2ycrcbf\u001b[0;34m(image)\u001b[0m\n\u001b[1;32m     78\u001b[0m dst \u001b[38;5;241m=\u001b[39m dst \u001b[38;5;241m*\u001b[39m np\u001b[38;5;241m.\u001b[39marray([[\u001b[38;5;241m1\u001b[39m\u001b[38;5;241m/\u001b[39m\u001b[38;5;241m255\u001b[39m, \u001b[38;5;241m2\u001b[39m \u001b[38;5;241m*\u001b[39m np\u001b[38;5;241m.\u001b[39mpi \u001b[38;5;241m/\u001b[39m \u001b[38;5;241m180\u001b[39m, \u001b[38;5;241m2\u001b[39m \u001b[38;5;241m*\u001b[39m np\u001b[38;5;241m.\u001b[39mpi \u001b[38;5;241m/\u001b[39m \u001b[38;5;241m180\u001b[39m]])\n\u001b[1;32m     79\u001b[0m \u001b[38;5;28mprint\u001b[39m(\u001b[38;5;124m\"\u001b[39m\u001b[38;5;124mRGB\u001b[39m\u001b[38;5;124m\"\u001b[39m)\n\u001b[0;32m---> 80\u001b[0m \u001b[38;5;28mprint\u001b[39m(\u001b[43msrc\u001b[49m)\n\u001b[1;32m     81\u001b[0m \u001b[38;5;28mprint\u001b[39m(\u001b[38;5;124m\"\u001b[39m\u001b[38;5;124mYCrCb\u001b[39m\u001b[38;5;124m\"\u001b[39m)\n\u001b[1;32m     82\u001b[0m \u001b[38;5;28mprint\u001b[39m(dst)\n",
      "\u001b[0;31mNameError\u001b[0m: name 'src' is not defined"
     ]
    }
   ],
   "source": [
    "msxcolor = MSXColor()"
   ]
  },
  {
   "cell_type": "code",
   "execution_count": null,
   "id": "af1cb795-2bd7-420a-b20b-17edcc1f1a68",
   "metadata": {},
   "outputs": [],
   "source": [
    "images_sc2 = []\n",
    "\n",
    "params = {\n",
    "    \"style\": 1,\n",
    "    \"dither\": Dither.JARVIS_JUDICE_NINKE,\n",
    "    \"contrast\": 20,\n",
    "    \"hue\": 1.0,\n",
    "    \"sat\": 1.0,\n",
    "    \"lum\": 1.0\n",
    "}\n",
    "\n",
    "for i in range(len(images)):\n",
    "    image_sc2 = msxcolor.screen2(images[i], params=params)\n",
    "    images_sc2.append(image_sc2)\n",
    "\n",
    "fig, axs = plt.subplots(2, 4, figsize=(16, 6))\n",
    "for i in range(len(images)):\n",
    "    axs[0][i].imshow(images[i])\n",
    "    axs[1][i].imshow(images_sc2[i])\n",
    "plt.show()"
   ]
  },
  {
   "cell_type": "code",
   "execution_count": null,
   "id": "d4d5badd-ed91-48e0-97a2-3f7e8d91b557",
   "metadata": {},
   "outputs": [],
   "source": [
    "params = {\n",
    "    \"style\": 2,\n",
    "    \"contrast\": 20,\n",
    "    \"hue\": 1.0,\n",
    "    \"sat\": 1.0,\n",
    "    \"lum\": 0.7\n",
    "}\n",
    "for i in range(len(images)):\n",
    "    image_sc2 = msxcolor.screen2(images[i], params=params)\n",
    "    images_sc2.append(image_sc2)\n",
    "\n",
    "fig, axs = plt.subplots(2, 4, figsize=(16, 6))\n",
    "for i in range(len(images)):\n",
    "    axs[0][i].imshow(images[i])\n",
    "    axs[1][i].imshow(images_sc2[i])\n",
    "plt.show()"
   ]
  },
  {
   "cell_type": "code",
   "execution_count": null,
   "id": "291365e2-0657-400a-8083-8be7292e815f",
   "metadata": {},
   "outputs": [],
   "source": [
    "msx_color = MSXColor()\n",
    "image_list = images\n",
    "for src in image_list:\n",
    "    # src = cv.cvtColor(src, cv.COLOR_BGR2RGB)\n",
    "    src = cv.resize(src, (256,192), interpolation=cv.INTER_LINEAR)\n",
    "    dst = msx_color.fg_map(src.copy(), {\"hue\": 1.0, \"sat\": 1.0, \"lum\": 1.0}, msx_color.palette_msx1_labf, ct.rgbi2labf)\n",
    "    dst2 = msx_color.fg_map(src.copy(), {\"hue\": 1.0, \"sat\": 1.0, \"lum\": 1.0}, msx_color.palette_msx1_hsvf_xy, ct.rgbi2hsvf_xy)\n",
    "    dst3 = msx_color.fg_map(src.copy(), {\"hue\": 1.0, \"sat\": 1.0, \"lum\": 1.0}, msx_color.palette_msx1_ycrcbf, ct.rgbi2ycrcbf)\n",
    "    title_list = [\"org\", \"labf\", \"hsvf_xy\", \"rgbf\"]\n",
    "    # dst2 = msx_color.style2(src.copy(), {\"hue\": 1.0, \"sat\": 1.0, \"lum\": 1.0})\n",
    "    # dst3 = msx_color.style1(src.copy(), {\"contrast\": 30, \"hue\": 1.0, \"sat\": 1.0, \"lum\": 1.0})\n",
    "    msx_color._plot3(src, dst, dst2, dst3, title_list=title_list, output_path=None)\n",
    "\n"
   ]
  },
  {
   "cell_type": "code",
   "execution_count": null,
   "id": "82ce2149-dcfb-45a0-a7bb-ab7bb7a24f4b",
   "metadata": {},
   "outputs": [],
   "source": []
  }
 ],
 "metadata": {
  "kernelspec": {
   "display_name": "Python 3 (ipykernel)",
   "language": "python",
   "name": "python3"
  },
  "language_info": {
   "codemirror_mode": {
    "name": "ipython",
    "version": 3
   },
   "file_extension": ".py",
   "mimetype": "text/x-python",
   "name": "python",
   "nbconvert_exporter": "python",
   "pygments_lexer": "ipython3",
   "version": "3.10.5"
  }
 },
 "nbformat": 4,
 "nbformat_minor": 5
}
